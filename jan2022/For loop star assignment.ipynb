{
 "cells": [
  {
   "cell_type": "markdown",
   "metadata": {},
   "source": [
    "# CIT ASSIGNMENT - JAN 12\n",
    "\n",
    "1. Create a upside down pyramid pattern using stars. \n",
    "2. Create a letter pattern using stars. \n",
    "3. Create a right side triangle using the user input.\n",
    "4. Using list comprehension print out even numbers.\n",
    "5. Using the lamba function print out 2022."
   ]
  },
  {
   "cell_type": "code",
   "execution_count": 1,
   "metadata": {},
   "outputs": [
    {
     "name": "stdout",
     "output_type": "stream",
     "text": [
      "* * * * * * * * * * * \n",
      " * * * * * * * * * * \n",
      "  * * * * * * * * * \n",
      "   * * * * * * * * \n",
      "    * * * * * * * \n",
      "     * * * * * * \n",
      "      * * * * * \n",
      "       * * * * \n",
      "        * * * \n",
      "         * * \n",
      "          * \n"
     ]
    }
   ],
   "source": [
    "rows = int(input(\"Enter rows: \"))\n",
    "\n",
    "for i in range(rows, 1, -1):\n",
    "    for space in range(0, rows - i):\n",
    "        print(\" \", end=\"\")\n",
    "    for j in range(i, 2 * i -1):\n",
    "        print(\"* \", end=\"\")\n",
    "    print()"
   ]
  },
  {
   "cell_type": "code",
   "execution_count": 2,
   "metadata": {},
   "outputs": [
    {
     "name": "stdout",
     "output_type": "stream",
     "text": [
      "    **    \n",
      "   *  *   \n",
      "  ******  \n",
      " *      * \n",
      "*        *\n"
     ]
    }
   ],
   "source": [
    "# Number of lines for the alphabet's pattern\n",
    "def printA(height):\n",
    "    # Number of character width in each line\n",
    "    width = (2 * height) - 1\n",
    "    \n",
    "    n = width // 2\n",
    "    for i in range(height):\n",
    "        for j in range(width + 1):\n",
    "            if (j == n or j == (width - n) or (i == (height // 2) and j > n and j < (width- n))):\n",
    "                print(\"*\", end=\"\")\n",
    "            else:\n",
    "                print(end=\" \")\n",
    "        print()\n",
    "        n = n - 1\n",
    "printA(5)"
   ]
  },
  {
   "cell_type": "code",
   "execution_count": null,
   "metadata": {},
   "outputs": [],
   "source": [
    "def right_triangle(n):\n",
    "    for i in list(range(n)):\n",
    "        print(\" *\" * (i-1))\n",
    "\n",
    "right_triangle(8)"
   ]
  },
  {
   "cell_type": "code",
   "execution_count": null,
   "metadata": {},
   "outputs": [],
   "source": [
    "def even_numbers(n):\n",
    "    return [x for x in range(n + 1) if x % 2== 0]\n",
    "print(even_numbers(5))"
   ]
  },
  {
   "cell_type": "code",
   "execution_count": 1,
   "metadata": {},
   "outputs": [
    {
     "name": "stdout",
     "output_type": "stream",
     "text": [
      "2022\n"
     ]
    }
   ],
   "source": [
    "num = lambda x: print(x)\n",
    "num(2022)"
   ]
  },
  {
   "cell_type": "code",
   "execution_count": null,
   "metadata": {},
   "outputs": [],
   "source": []
  }
 ],
 "metadata": {
  "kernelspec": {
   "display_name": "Python 3",
   "language": "python",
   "name": "python3"
  },
  "language_info": {
   "codemirror_mode": {
    "name": "ipython",
    "version": 3
   },
   "file_extension": ".py",
   "mimetype": "text/x-python",
   "name": "python",
   "nbconvert_exporter": "python",
   "pygments_lexer": "ipython3",
   "version": "3.9.9"
  }
 },
 "nbformat": 4,
 "nbformat_minor": 4
}
