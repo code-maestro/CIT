{
 "cells": [
  {
   "cell_type": "markdown",
   "metadata": {},
   "source": [
    "1. Create a tuple using the while loop to print out all the items.\n",
    "2. Using list comprehension print out odd numbers only.\n",
    "3. Create a nesting list that prints 1 list all in uppercase and the second\n",
    "list in lower case.\n",
    "4. Create a if,elif,and else statement using the user input that \n",
    "prints\"This is a odd number\"(when its odd) and prints\"This is a even number\" \n",
    "when its even in a range of 10 then the last statement prints \"Done!\" \n"
   ]
  },
  {
   "cell_type": "code",
   "execution_count": null,
   "metadata": {},
   "outputs": [],
   "source": [
    "# 1.Create a tuple using the while loop to print out all the items.\n",
    "names = (\"Lewis\", \"Yuki\", \"Gasly\", \"Vettel\", \"Max\")\n",
    "i = 0\n",
    "while i < len(names):\n",
    "    print(names[i])\n",
    "    i += 1"
   ]
  },
  {
   "cell_type": "code",
   "execution_count": null,
   "metadata": {},
   "outputs": [],
   "source": [
    "# 2.Using list comprehension print out odd numbers only.\n",
    "\n",
    "odd_numbers = [x for x in range(1, 44) if x % 2 != 0]\n",
    "\n",
    "print(odd_numbers)"
   ]
  },
  {
   "cell_type": "code",
   "execution_count": null,
   "metadata": {},
   "outputs": [],
   "source": [
    "# 3. Create a nesting list that prints 1 list all in uppercase and the second list in lower case.\n",
    "\n",
    "drink = [\n",
    "    [\"pineapples\", \"mangoes\", \"apples\"],\n",
    "    [\"juice\", \"smoothie\", \"milkshake\"]\n",
    "    ]\n",
    "\n",
    "upperList = []\n",
    "lowerList = []\n",
    "\n",
    "for i in drink:\n",
    "    for j in i:\n",
    "        upperList.append(j.upper())\n",
    "    for k in i:\n",
    "        lowerList.append(k.lower())\n",
    "\n",
    "print(upperList)\n",
    "print(lowerList)\n"
   ]
  },
  {
   "cell_type": "code",
   "execution_count": null,
   "metadata": {},
   "outputs": [],
   "source": [
    "# 4. Create a if,elif,and else statement using the user input that prints\" This is a odd number\"(when its odd) and prints\"This is a even number\"  when its even in a range of 10 then the last statement prints \"Done!\" \n",
    "\n",
    "number = int(input(\"Enter a number: \"))\n",
    "\n",
    "if number % 2 == 0 and number < 10:\n",
    "    print(f\"This is a even number: {number}\")\n",
    "elif number % 2 != 0 and number in range(10):\n",
    "    print(f\"This is a odd number: {number}\")\n",
    "else:\n",
    "    print(\"Done!\")"
   ]
  },
  {
   "cell_type": "code",
   "execution_count": 43,
   "metadata": {},
   "outputs": [
    {
     "name": "stdout",
     "output_type": "stream",
     "text": [
      "['pineapples', 'mangoes', 'apples', 'juice', 'smoothie', 'milkshake']\n"
     ]
    }
   ],
   "source": [
    "# 5. Create 2 lists and use a for loop to combine both lists and print the new list.\n",
    "\n",
    "list1 = [\"pineapples\", \"mangoes\", \"apples\"]\n",
    "list2 = [\"juice\", \"smoothie\", \"milkshake\"]\n",
    "\n",
    "new_list = []\n",
    "new_list.append(list1 + list2)\n",
    "\n",
    "for i in new_list:\n",
    "    print(i)"
   ]
  },
  {
   "cell_type": "markdown",
   "metadata": {},
   "source": []
  }
 ],
 "metadata": {
  "interpreter": {
   "hash": "f260766e05116611b8b77074224b4ba59c6b740fb1f96e7ff9a3ec963f166fc5"
  },
  "kernelspec": {
   "display_name": "Python 3.10.0 64-bit",
   "language": "python",
   "name": "python3"
  },
  "language_info": {
   "codemirror_mode": {
    "name": "ipython",
    "version": 3
   },
   "file_extension": ".py",
   "mimetype": "text/x-python",
   "name": "python",
   "nbconvert_exporter": "python",
   "pygments_lexer": "ipython3",
   "version": "3.10.0"
  },
  "orig_nbformat": 4
 },
 "nbformat": 4,
 "nbformat_minor": 2
}
