{
 "cells": [
  {
   "cell_type": "markdown",
   "metadata": {},
   "source": [
    "AJUNA MICHAEL'S ASSIGNMENT FOR FRIDAY THE 14TH, 2022\n",
    "1.Create a star pattern that prints a pyramid using a while loop.\n",
    "2.Create a star pattern that prints a letter using a while loop.\n",
    "3.Create a dictionary that replace a key value pair with a new one."
   ]
  },
  {
   "cell_type": "code",
   "execution_count": 54,
   "metadata": {},
   "outputs": [
    {
     "name": "stdout",
     "output_type": "stream",
     "text": [
      "     **\n",
      "    ***\n",
      "   ****\n",
      "  *****\n",
      " ******\n"
     ]
    }
   ],
   "source": [
    "# 1.Create a star pattern that prints a pyramid using a while loop.\n",
    "i = 0\n",
    "n = 5\n",
    "while i < 5:\n",
    "    print(\" \" * (n), end=\"\")\n",
    "    print(\"*\" * (i+1))\n",
    "    i += 1\n",
    "    n -= 1"
   ]
  },
  {
   "cell_type": "code",
   "execution_count": null,
   "metadata": {},
   "outputs": [],
   "source": [
    "# 2.Create a star pattern that prints a letter using a while loop.\n",
    "rows = 0\n",
    "while rows < 5:\n",
    "    if(rows == 0):\n",
    "        print(\"* \" * 4)\n",
    "    elif (rows == 2):\n",
    "        print(\"* \" * 4)\n",
    "    else:\n",
    "        print(\"*\")\n",
    "    rows += 1"
   ]
  },
  {
   "cell_type": "code",
   "execution_count": 45,
   "metadata": {},
   "outputs": [
    {
     "name": "stdout",
     "output_type": "stream",
     "text": [
      "{'b': 2}\n",
      "{'b': 2, 'c': 3}\n"
     ]
    }
   ],
   "source": [
    "# 3.Create a dictionary of cars that replace a key value pair with a new one.\n",
    "a_dict = {\"a\": 1, \"b\": 2,}\n",
    "\n",
    "a_dict.pop(\"a\")\n",
    "print(a_dict)\n",
    "\n",
    "a_dict.update({\"c\": 3})\n",
    "print(a_dict)\n",
    "\n"
   ]
  }
 ],
 "metadata": {
  "interpreter": {
   "hash": "f260766e05116611b8b77074224b4ba59c6b740fb1f96e7ff9a3ec963f166fc5"
  },
  "kernelspec": {
   "display_name": "Python 3.10.0 64-bit",
   "language": "python",
   "name": "python3"
  },
  "language_info": {
   "codemirror_mode": {
    "name": "ipython",
    "version": 3
   },
   "file_extension": ".py",
   "mimetype": "text/x-python",
   "name": "python",
   "nbconvert_exporter": "python",
   "pygments_lexer": "ipython3",
   "version": "3.10.0"
  },
  "orig_nbformat": 4
 },
 "nbformat": 4,
 "nbformat_minor": 2
}
