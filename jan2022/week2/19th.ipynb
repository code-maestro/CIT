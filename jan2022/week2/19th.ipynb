{
 "cells": [
  {
   "cell_type": "code",
   "execution_count": 10,
   "id": "fcc1004d",
   "metadata": {},
   "outputs": [
    {
     "name": "stdout",
     "output_type": "stream",
     "text": [
      "Enter your range: 6\n",
      "\n",
      "55555555555\n",
      " 444444444\n",
      "  3333333\n",
      "   22222\n",
      "    111\n",
      "     0\n",
      "     *\n",
      "    ***\n",
      "   *****\n",
      "  *******\n",
      " *********\n",
      "***********\n"
     ]
    }
   ],
   "source": [
    "#3.Using the user input create an hourglass.\n",
    "\n",
    "n = int(input('Enter your range: '))\n",
    "print()\n",
    "for i in range(n)[::-1]:\n",
    "    for j in range(n-i-1):\n",
    "        print(\" \", end=\"\")\n",
    "    for j in range(2*i+1):\n",
    "        print(i, end='')\n",
    "    print()\n",
    "    \n",
    "for i in range(n):\n",
    "    for j in range(n-i-1):\n",
    "        print(\" \", end=\"\")\n",
    "    for j in range(2*i+1):\n",
    "        print('*', end='')\n",
    "    print()\n",
    "    \n",
    "# for i in range(n):\n",
    "#     for j in range(n-i-1):\n",
    "#         print(\" \", end=\"\")\n",
    "#     for j in range(2*i+1):\n",
    "#         print(i, end='')\n",
    "#     print()"
   ]
  },
  {
   "cell_type": "code",
   "execution_count": 16,
   "id": "e3d0b6cf",
   "metadata": {},
   "outputs": [
    {
     "name": "stdout",
     "output_type": "stream",
     "text": [
      "     *\n",
      "    ***\n",
      "   *****\n",
      "  *******\n",
      " *********\n",
      "***********\n",
      "***********\n",
      " *********\n",
      "  *******\n",
      "   *****\n",
      "    ***\n",
      "     *\n"
     ]
    }
   ],
   "source": [
    "for i in range(n):\n",
    "    for j in range(n-i-1):\n",
    "        print(\" \", end=\"\")\n",
    "    for j in range(2*i+1):\n",
    "        print('*', end='')\n",
    "    print()\n",
    "for i in range(n)[::-1]:\n",
    "    for j in range(n-i-1):\n",
    "        print(\" \", end=\"\")\n",
    "    for j in range(2*i+1):\n",
    "        print('*', end='')\n",
    "    print()"
   ]
  },
  {
   "cell_type": "code",
   "execution_count": 24,
   "id": "6445ab76",
   "metadata": {},
   "outputs": [
    {
     "name": "stdout",
     "output_type": "stream",
     "text": [
      "Please Enter any Side of a Square  : 8\n",
      "* * * * * * * * \n",
      "*             * \n",
      "*             * \n",
      "*             * \n",
      "*             * \n",
      "*             * \n",
      "*             * \n",
      "* * * * * * * * \n"
     ]
    }
   ],
   "source": [
    "side = int(input(\"Please Enter any Side of a Square  : \"))\n",
    "for i in range(side):\n",
    "    for j in range(side):\n",
    "        if(i == 0 or i == side-1 or j == 0 or j == side-1):\n",
    "            print('*', end = ' ')\n",
    "        else:\n",
    "            print(' ', end = ' ')\n",
    "    print()"
   ]
  },
  {
   "cell_type": "code",
   "execution_count": 1,
   "id": "0ae2bc0a",
   "metadata": {},
   "outputs": [
    {
     "name": "stdout",
     "output_type": "stream",
     "text": [
      "\u001b[1m\u001b[93mWELCOME TO PYTHON (ENTRY-LEVEL) QUIZ\u001b[0m\n",
      "Are you ready to play the Quiz ? (yes/no) :yes\n",
      "\n",
      "Question 1: What is the new version of python? python 3\n",
      "\n",
      "\u001b[92mcorrect\u001b[0m\n",
      "Question 2: A Tuple is a collection of Python objects separated by commas? \n",
      " (True or False)  False\n",
      "\n",
      "\u001b[91mWrong Answer :(\u001b[0m\n",
      "Question 3: A set is an unordered and unmutable collection of unique elements? \n",
      " ( True or False ) False\n",
      "\n",
      "\u001b[92mcorrect\u001b[0m\n",
      "\n",
      "\u001b[1mThank you for Playing this small quiz game, you attempted 2 questions correctly!\u001b[0m\n",
      "\n",
      "\n",
      "\u001b[1mMarks obtained:\u001b[91m66.66666666666666\u001b[0m\u001b[0m\n",
      "\n",
      "BYE!\n"
     ]
    }
   ],
   "source": [
    "class color:\n",
    "    GREEN = '\\033[92m'\n",
    "    YELLOW = '\\033[93m'\n",
    "    RED = '\\033[91m'\n",
    "    BOLD = '\\033[1m'\n",
    "    UNDERLINE = '\\033[4m'\n",
    "    END = '\\033[0m'\n",
    "    \n",
    "print(color.BOLD + color.YELLOW + 'WELCOME TO PYTHON (ENTRY-LEVEL) QUIZ'+color.END)\n",
    "answer=input('Are you ready to play the Quiz ? (yes/no) :')\n",
    "print()\n",
    "\n",
    "score=0\n",
    "total_questions=3\n",
    " \n",
    "if answer.lower()=='yes':\n",
    "    answer=input('Question 1: What is the new version of python? ')\n",
    "    if answer.lower()=='python 3':\n",
    "        score += 1\n",
    "        print()\n",
    "        print(color.GREEN + 'correct' + color.END)\n",
    "    else:\n",
    "        print()\n",
    "        print(color.RED + 'Wrong Answer :(' + color.END )\n",
    "        print()\n",
    "    answer=input('Question 2: A Tuple is a collection of Python objects separated by commas? \\n (True or False)  ')\n",
    "    if answer.lower()=='true':\n",
    "        score += 1\n",
    "        print()\n",
    "        print(color.GREEN + 'correct' + color.END)\n",
    "        print()\n",
    "    else:\n",
    "        print()\n",
    "        print(color.RED + 'Wrong Answer :(' + color.END )\n",
    " \n",
    "    answer=input('Question 3: A set is an unordered and unmutable collection of unique elements? \\n ( True or False ) ')\n",
    "    if answer.lower()=='false':\n",
    "        score += 1\n",
    "        print()\n",
    "        print(color.GREEN + 'correct' + color.END )\n",
    "    else:\n",
    "        print()\n",
    "        print(color.RED + 'Wrong Answer :('+ color.END)\n",
    "        \n",
    "print()\n",
    "print(color.BOLD + 'Thank you for Playing this small quiz game, you attempted',score,\"questions correctly!\" + color.END)\n",
    "print()\n",
    "mark=(score/total_questions)*100\n",
    "print()\n",
    "print(color.BOLD + 'Marks obtained:'+ color.RED + str(mark) + color.END + color.END)\n",
    "print()\n",
    "print('BYE!')"
   ]
  },
  {
   "cell_type": "code",
   "execution_count": null,
   "id": "464eac5e",
   "metadata": {},
   "outputs": [],
   "source": []
  },
  {
   "cell_type": "code",
   "execution_count": null,
   "id": "6924bb8f",
   "metadata": {},
   "outputs": [],
   "source": []
  },
  {
   "cell_type": "code",
   "execution_count": null,
   "id": "58df5cbb",
   "metadata": {},
   "outputs": [],
   "source": [
    "   "
   ]
  },
  {
   "cell_type": "code",
   "execution_count": null,
   "id": "f2df4b00",
   "metadata": {},
   "outputs": [],
   "source": []
  },
  {
   "cell_type": "code",
   "execution_count": null,
   "id": "46c90e5a",
   "metadata": {},
   "outputs": [],
   "source": []
  },
  {
   "cell_type": "code",
   "execution_count": null,
   "id": "7d29d0c9",
   "metadata": {},
   "outputs": [],
   "source": []
  },
  {
   "cell_type": "code",
   "execution_count": null,
   "id": "97cff1b0",
   "metadata": {},
   "outputs": [],
   "source": []
  },
  {
   "cell_type": "code",
   "execution_count": null,
   "id": "e024a8f5",
   "metadata": {},
   "outputs": [],
   "source": []
  }
 ],
 "metadata": {
  "kernelspec": {
   "display_name": "Python 3 (ipykernel)",
   "language": "python",
   "name": "python3"
  },
  "language_info": {
   "codemirror_mode": {
    "name": "ipython",
    "version": 3
   },
   "file_extension": ".py",
   "mimetype": "text/x-python",
   "name": "python",
   "nbconvert_exporter": "python",
   "pygments_lexer": "ipython3",
   "version": "3.9.7"
  }
 },
 "nbformat": 4,
 "nbformat_minor": 5
}
